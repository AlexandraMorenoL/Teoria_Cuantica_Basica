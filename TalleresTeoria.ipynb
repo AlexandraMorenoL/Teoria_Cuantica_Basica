{
 "cells": [
  {
   "cell_type": "markdown",
   "metadata": {},
   "source": [
    "# Teoría cuántica básica, observables y medidas \n",
    "## Entregado por: Alexandra Moreno Latorre\n",
    "## Entregado a: Luis Daniel Benavides Navarro\n",
    "\n",
    "En este cuaderno de Jupyter, cuidadosamente elaborado, se ofrece una exhaustiva recopilación de soluciones para una amplia gama de \n",
    "ejercicios relacionados con la teoría cuántica básica, así como con los conceptos de observables y medidas. Estos problemas han sido \n",
    "meticulosamente seleccionados para abarcar los principales temas discutidos y trabajados durante el curso. Desde los fundamentos más \n",
    "elementales hasta problemas más desafiantes, este compendio busca proporcionar una herramienta integral para el estudio y comprensión \n",
    "de los principios fundamentales de la mecánica cuántica. Cada solución se presenta de manera clara, con el objetivo de poner en \n",
    "práctica todos los conocimientos aprendidos. \n",
    "\n",
    "\n",
    "### Entregable.\n",
    "Entregue un solo proyecto github con un README completo que explique los contenidos de su repositorios, que librerías instalar y cómo \n",
    "ejecutar los ejercicios..\n",
    "Use Jupyter para completar sus ejercicios\n",
    "Asegúrese que es fácil navegar a la sección dónde están las explicaciones.\n"
   ]
  },
  {
   "cell_type": "markdown",
   "metadata": {},
   "source": [
    "# Solución ejercicios (Suba semanalmente sus avances a git)\n",
    "## El sistema consiste en una partícula confinada a un conjunto discreto de posiciones en una línea. El simulador debe permitir especificar el número de posiciones y un vector ket de estado asignando las amplitudes.\n",
    "1. El sistema debe calcular la probabilidad de encontrarlo en una posición en particular."
   ]
  },
  {
   "cell_type": "code",
   "execution_count": null,
   "metadata": {},
   "outputs": [
    {
     "name": "stdout",
     "output_type": "stream",
     "text": [
      "La probabilidad de encontrar el vector ket en una posición específica es:  0.16000000000000003\n"
     ]
    }
   ],
   "source": [
    "import numpy as np\n",
    "\n",
    "def main():\n",
    "#Ejemplo de uso transición con números complejos\n",
    "    ket = np.array([0.5+0.2j, 0.3-0.1j, 0.0 + 0.4j, 0.1+0.3j, 0.1-0.2j])\n",
    "    pos = 2\n",
    "    resultado = propabilidad(ket, pos)\n",
    "    print(\"La probabilidad de encontrar el vector ket en una posición específica es: \", resultado)\n",
    "\n",
    "def propabilidad(ket, pos):\n",
    "    amplitud = ket[pos]\n",
    "    probabilidad = np.abs(amplitud)**2\n",
    "    return probabilidad\n",
    "\n",
    "main()\n"
   ]
  },
  {
   "cell_type": "markdown",
   "metadata": {},
   "source": [
    "2. El sistema si se le da otro vector Ket debe buscar la probabilidad de transitar del primer vector al segundo."
   ]
  },
  {
   "cell_type": "code",
   "execution_count": 3,
   "metadata": {},
   "outputs": [
    {
     "name": "stdout",
     "output_type": "stream",
     "text": [
      "La probabilidad de transitar un vector ket al otro es:  0.07240000000000002\n"
     ]
    }
   ],
   "source": [
    "import numpy as np\n",
    "\n",
    "def main():\n",
    "#Ejemplo de uso transición con números complejos\n",
    "    ket_inicial = np.array([0.2+0.3j, 0.1-0.4j, 0.0+0.5j, 0.3-0.2j])\n",
    "    ket_final = np.array([0.1-0.1j, 0.2+0.2j, 0.1-0.3j, 0.4+0.4j])\n",
    "    resultado = calcula_transicion(ket_inicial, ket_final)\n",
    "    print(\"La probabilidad de transitar un vector ket al otro es: \", resultado)\n",
    "\n",
    "def calcula_transicion(ket_inicial, ket_final):\n",
    "    producto_interno = np.vdot(ket_inicial, ket_final)\n",
    "    transicion = np.abs(producto_interno)**2\n",
    "    return transicion\n",
    "\n",
    "main()\n"
   ]
  },
  {
   "cell_type": "markdown",
   "metadata": {},
   "source": [
    "## Complete los retos de programación del capítulo 4.\n",
    "1. Amplitud de transición. El sistema puede recibir dos vectores y calcular la probabilidad de transitar de el uno al otro después de hacer la observación"
   ]
  },
  {
   "cell_type": "code",
   "execution_count": null,
   "metadata": {},
   "outputs": [
    {
     "name": "stdout",
     "output_type": "stream",
     "text": [
      "La probabilidad de transitar de el uno al otro después de hacer la observación es de:  4525.000000000001\n"
     ]
    }
   ],
   "source": [
    "def main():\n",
    "    vector1 = np.array([1 + 20j, 3 - 1j])\n",
    "    vector2 = np.array([2 - 1j, 1 + 30j])\n",
    "    resultado = amplitud_transicion(vector1, vector2)\n",
    "    print(\"La probabilidad de transitar de el uno al otro después de hacer la observación es de: \", resultado)\n",
    "\n",
    "def amplitud_transicion(vector1, vector2):\n",
    "    transicion = np.dot(np.conjugate(vector1), vector2)\n",
    "    return np.abs(transicion)**2\n",
    "\n",
    "main()"
   ]
  },
  {
   "cell_type": "markdown",
   "metadata": {},
   "source": [
    "2. Ahora con una matriz que describa un observable y un vector ket, el sistema revisa que la matriz sea hermitiana, y si lo es, calcula la media y la varianza del observable en el estado dado."
   ]
  },
  {
   "cell_type": "code",
   "execution_count": 21,
   "metadata": {},
   "outputs": [
    {
     "name": "stdout",
     "output_type": "stream",
     "text": [
      "La media calculada es: None\n",
      "La varianza es: None\n"
     ]
    }
   ],
   "source": [
    "import numpy as np\n",
    "\n",
    "def main():\n",
    "    matriz = np.array([[3 + 1j, 2 - 1j], [2 - 1j, 1 - 2j]])  # Matriz hermitiana\n",
    "    estado = np.array([1 + 0j, 1 - 1j])\n",
    "    media, varianza = calcular_media_varianza(matriz, estado)\n",
    "    print(\"La media calculada es:\", media)\n",
    "    print(\"La varianza es:\", varianza)\n",
    "\n",
    "def calcular_media_varianza(matriz, estado):\n",
    "    if np.allclose(matriz, np.conjugate(np.transpose(matriz))):\n",
    "        media = np.dot(np.conjugate(estado), np.dot(matriz, estado))\n",
    "        varianza = np.dot(np.conjugate(estado), np.dot(matriz**2, estado)) - np.abs(media)**2\n",
    "        return np.real(media), np.real(varianza)  # Devolvemos la parte real de la media y la varianza\n",
    "    else:\n",
    "        return None, None\n",
    "\n",
    "main()\n"
   ]
  },
  {
   "cell_type": "markdown",
   "metadata": {},
   "source": [
    "3. El sistema calcula los valores propios del observable y la probabilidad de que el sistema transite a alguno de los vectores propios después de la observación."
   ]
  },
  {
   "cell_type": "code",
   "execution_count": 9,
   "metadata": {},
   "outputs": [
    {
     "name": "stdout",
     "output_type": "stream",
     "text": [
      "Valores propios: None\n",
      "Probabilidad de transición: None\n"
     ]
    }
   ],
   "source": [
    "import numpy as np\n",
    "\n",
    "def main():\n",
    "    matriz = np.array([[1 + 1j, 2 - 1j], [2 - 1j, 3 - 2j]]) \n",
    "    estado = np.array([1 + 0j, 0 - 1j])\n",
    "    valores_propios, probabilidad_transicion = calcular_valores_propios_probabilidad(matriz, estado)\n",
    "    print(\"Valores propios:\", valores_propios)\n",
    "    print(\"Probabilidad de transición:\", probabilidad_transicion)\n",
    "\n",
    "def calcular_valores_propios_probabilidad(matriz, estado):\n",
    "    if np.allclose(matriz, np.conjugate(np.transpose(matriz))):\n",
    "        valores_propios, vectores_propios = np.linalg.eigh(matriz)\n",
    "        proyeccion = np.outer(vectores_propios.conj(), vectores_propios)\n",
    "        probabilidad_transicion = np.abs(np.vdot(estado, np.dot(proyeccion, estado)))**2\n",
    "        return valores_propios, probabilidad_transicion\n",
    "    else:\n",
    "        return None, None\n",
    "\n",
    "main()\n"
   ]
  },
  {
   "cell_type": "markdown",
   "metadata": {},
   "source": [
    "4. Se considera la dinámica del sistema. Ahora con una serie de matrices ***Un*** el sistema calcula el estado final a partir de un estado inicial.\n"
   ]
  },
  {
   "cell_type": "code",
   "execution_count": 23,
   "metadata": {},
   "outputs": [
    {
     "name": "stdout",
     "output_type": "stream",
     "text": [
      "Estado final después de la dinámica del sistema: [1.-3.j 1.-3.j]\n"
     ]
    }
   ],
   "source": [
    "import numpy as np\n",
    "\n",
    "def main():\n",
    "    matriz_operacion1 = np.array([[1 + 1j, 0],\n",
    "                                [0, 1 - 1j]])\n",
    "    matriz_operacion2 = np.array([[1 - 1j, 2 + 1j],\n",
    "                                [0, 1 + 2j]])\n",
    "    matrices = [matriz_operacion1, matriz_operacion2]\n",
    "    estado_inicial = np.array([1 + 0j, 0 - 1j])  # Definir el estado inicial\n",
    "    estado_final = evolucion_dinamica(matrices, estado_inicial)  # Pasar 'matrices' en lugar de 'matrices_operacion'\n",
    "    print(\"Estado final después de la dinámica del sistema:\", estado_final)\n",
    "\n",
    "def evolucion_dinamica(matrices, estado_inicial):\n",
    "    estado_actual = estado_inicial\n",
    "    for matriz_operacion in matrices:\n",
    "        estado_actual = np.dot(matriz_operacion, estado_actual)\n",
    "    return estado_actual\n",
    "\n",
    "main()\n"
   ]
  },
  {
   "cell_type": "markdown",
   "metadata": {},
   "source": [
    "### Realice los siguientes problemas e inclúyalos como ejemplos\n",
    "Modele en su librería los problemas\n",
    "\n",
    "- 4.3.1"
   ]
  },
  {
   "cell_type": "code",
   "execution_count": 28,
   "metadata": {},
   "outputs": [
    {
     "name": "stdout",
     "output_type": "stream",
     "text": [
      "Resultado: 1\n"
     ]
    }
   ],
   "source": [
    "import numpy as np\n",
    "\n",
    "def ej1(observation):\n",
    "    spin_up = np.array([1, 0])  \n",
    "    aplica = np.dot(observation, spin_up)\n",
    "    suma = np.sum(aplica)\n",
    "    return suma\n",
    "observacion = np.array([[0, 1], [1, 0]]) \n",
    "resultado = ej1(observacion)\n",
    "print(\"Resultado:\", resultado)\n"
   ]
  },
  {
   "cell_type": "markdown",
   "metadata": {},
   "source": [
    "- 4.4.1\n"
   ]
  },
  {
   "cell_type": "code",
   "execution_count": 32,
   "metadata": {},
   "outputs": [
    {
     "name": "stdout",
     "output_type": "stream",
     "text": [
      "U1 es unitaria: True\n",
      "U2 es unitaria: True\n",
      "El producto de U1 y U2 es unitario: True\n"
     ]
    }
   ],
   "source": [
    "import numpy as np\n",
    "U1 = np.array([[0, 1], \n",
    "               [1, 0]])\n",
    "U2 = np.array([[0.5**0.5, 0.5**0.5], \n",
    "               [-0.5**0.5, 0.5**0.5]])\n",
    "def es_unitaria(matriz):\n",
    "    return np.allclose(np.eye(len(matriz)), matriz.dot(matriz.T.conj()))\n",
    "print(f\"U1 es unitaria: {es_unitaria(U1)}\")\n",
    "print(f\"U2 es unitaria: {es_unitaria(U2)}\")\n",
    "producto = np.dot(U1, U2)\n",
    "print(f\"El producto de U1 y U2 es unitario: {es_unitaria(producto)}\")\n"
   ]
  },
  {
   "cell_type": "markdown",
   "metadata": {},
   "source": [
    "- 4.4.2"
   ]
  },
  {
   "cell_type": "code",
   "execution_count": 38,
   "metadata": {},
   "outputs": [
    {
     "name": "stdout",
     "output_type": "stream",
     "text": [
      "El estado del sistema después de tres pasos de tiempo es: [0.         0.70710678 0.70710678 0.        ]\n",
      "La probabilidad de encontrar la bola cuántica en el punto-3 es: 0.0\n"
     ]
    }
   ],
   "source": [
    "import numpy as np\n",
    "\n",
    "U = np.array([[0, 1/np.sqrt(2), 1/np.sqrt(2), 0],\n",
    "              [1/np.sqrt(2), 0, 0, -1/np.sqrt(2)],\n",
    "              [1/np.sqrt(2), 0, 0, 1/np.sqrt(2)],\n",
    "              [0, -1/np.sqrt(2), 1/np.sqrt(2), 0]])\n",
    "\n",
    "estado_inicial = np.array([1, 0, 0, 0]).T\n",
    "\n",
    "estado_final = np.linalg.matrix_power(U, 3).dot(estado_inicial)\n",
    "\n",
    "probabilidad_en_punto_3 = abs(estado_final[3])**2\n",
    "\n",
    "print(\"El estado del sistema después de tres pasos de tiempo es:\", estado_final)\n",
    "print(\"La probabilidad de encontrar la bola cuántica en el punto-3 es:\", probabilidad_en_punto_3)\n",
    "\n"
   ]
  }
 ],
 "metadata": {
  "kernelspec": {
   "display_name": "Python 3",
   "language": "python",
   "name": "python3"
  },
  "language_info": {
   "codemirror_mode": {
    "name": "ipython",
    "version": 3
   },
   "file_extension": ".py",
   "mimetype": "text/x-python",
   "name": "python",
   "nbconvert_exporter": "python",
   "pygments_lexer": "ipython3",
   "version": "3.10.6"
  }
 },
 "nbformat": 4,
 "nbformat_minor": 2
}
