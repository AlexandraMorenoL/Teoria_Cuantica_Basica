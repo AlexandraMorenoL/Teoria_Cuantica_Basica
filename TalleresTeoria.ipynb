{
 "cells": [
  {
   "cell_type": "markdown",
   "metadata": {},
   "source": [
    "# Teoría cuántica básica, observables y medidas \n",
    "## Alexandra Moreno Latorre\n",
    "\n",
    "Suba semanalmente sus avances a git\n",
    "Simule el primer sistema cuántico descrito en la sección 4.1.\n",
    "El sistema consiste en una partícula confinada a un conjunto discreto de posiciones en una línea. El simulador debe permitir especificar el número de posiciones y un vector ket de estado asignando las amplitudes.\n",
    "\n",
    "1. El sistema debe calcular la probabilidad de encontrarlo en una posición en particular.\n",
    "\n",
    "2. El sistema si se le da otro vector Ket debe buscar la probabilidad de transitar del primer vector al segundo.\n",
    "\n",
    "### Complete los retos de programación del capítulo 4.\n",
    "1. Amplitud de transición. El sistema puede recibir dos vectores y calcular la probabilidad de transitar de el uno al otro después de hacer la observación\n",
    "\n",
    "2. Ahora con una matriz que describa un observable y un vector ket, el sistema revisa que la matriz sea hermitiana, y si lo es, calcula la media y la varianza del observable en el estado dado.\n",
    "\n",
    "3. El sistema calcula los valores propios del observable y la probabilidad de que el sistema transite a alguno de los vectores propios después de la observación.\n",
    "\n",
    "4. Se considera la dinámica del sistema. Ahora con una serie de matrices ***Un*** el sistema calcula el estado final a partir de un estado inicial.\n",
    "\n",
    "\n",
    "### Realice los siguientes problemas e inclúyalos como ejemplos\n",
    "Modele en su librería los problemas\n",
    "\n",
    "- 4.3.1\n",
    "\n",
    "- 4.3.2\n",
    "\n",
    "- 4.4.1\n",
    "\n",
    "- 4.4.2\n",
    "\n",
    "Desarrolle e incluya en el Github una discusión de los ejercicios 4.5.2 y 4.5.3\n",
    "\n",
    "### Entregable.\n",
    "Entregue un solo proyecto github con un README completo que explique los contenidos de su repositorios, que librerías instalar y cómo ejecutar los ejercicios..\n",
    "Use Jupyter para completar sus ejercicios\n",
    " Asegúrese que es fácil navegar a la sección dónde están las explicaciones.\n"
   ]
  },
  {
   "cell_type": "markdown",
   "metadata": {},
   "source": [
    "## Solución ejercicios \n",
    "1. El sistema debe calcular la probabilidad de encontrarlo en una posición en particular."
   ]
  },
  {
   "cell_type": "code",
   "execution_count": null,
   "metadata": {},
   "outputs": [
    {
     "name": "stdout",
     "output_type": "stream",
     "text": [
      "La probabilidad de encontrar el vector ket en una posición específica es:  0.16000000000000003\n"
     ]
    }
   ],
   "source": [
    "import numpy as np\n",
    "\n",
    "def main():\n",
    "#Ejemplo de uso transición con números complejos\n",
    "    ket = np.array([0.5+0.2j, 0.3-0.1j, 0.0 + 0.4j, 0.1+0.3j, 0.1-0.2j])\n",
    "    pos = 2\n",
    "    resultado = propabilidad(ket, pos)\n",
    "    print(\"La probabilidad de encontrar el vector ket en una posición específica es: \", resultado)\n",
    "\n",
    "def propabilidad(ket, pos):\n",
    "    amplitud = ket[pos]\n",
    "    probabilidad = np.abs(amplitud)**2\n",
    "    return probabilidad\n",
    "\n",
    "main()\n"
   ]
  },
  {
   "cell_type": "markdown",
   "metadata": {},
   "source": [
    "2. El sistema si se le da otro vector Ket debe buscar la probabilidad de transitar del primer vector al segundo."
   ]
  },
  {
   "cell_type": "code",
   "execution_count": 3,
   "metadata": {},
   "outputs": [
    {
     "name": "stdout",
     "output_type": "stream",
     "text": [
      "La probabilidad de transitar un vector ket al otro es:  0.07240000000000002\n"
     ]
    }
   ],
   "source": [
    "import numpy as np\n",
    "\n",
    "def main():\n",
    "#Ejemplo de uso transición con números complejos\n",
    "    ket_inicial = np.array([0.2+0.3j, 0.1-0.4j, 0.0+0.5j, 0.3-0.2j])\n",
    "    ket_final = np.array([0.1-0.1j, 0.2+0.2j, 0.1-0.3j, 0.4+0.4j])\n",
    "    resultado = calcula_transicion(ket_inicial, ket_final)\n",
    "    print(\"La probabilidad de transitar un vector ket al otro es: \", resultado)\n",
    "\n",
    "def calcula_transicion(ket_inicial, ket_final):\n",
    "    producto_interno = np.vdot(ket_inicial, ket_final)\n",
    "    transicion = np.abs(producto_interno)**2\n",
    "    return transicion\n",
    "\n",
    "main()\n"
   ]
  },
  {
   "cell_type": "markdown",
   "metadata": {},
   "source": [
    "## Solución retos de programación\n",
    "1. Amplitud de transición. El sistema puede recibir dos vectores y calcular la probabilidad de transitar de el uno al otro después de hacer la observación"
   ]
  },
  {
   "cell_type": "code",
   "execution_count": null,
   "metadata": {},
   "outputs": [
    {
     "name": "stdout",
     "output_type": "stream",
     "text": [
      "La probabilidad de transitar de el uno al otro después de hacer la observación es de:  4525.000000000001\n"
     ]
    }
   ],
   "source": [
    "def main():\n",
    "    vector1 = np.array([1 + 20j, 3 - 1j])\n",
    "    vector2 = np.array([2 - 1j, 1 + 30j])\n",
    "    resultado = amplitud_transicion(vector1, vector2)\n",
    "    print(\"La probabilidad de transitar de el uno al otro después de hacer la observación es de: \", resultado)\n",
    "\n",
    "def amplitud_transicion(vector1, vector2):\n",
    "    transicion = np.dot(np.conjugate(vector1), vector2)\n",
    "    return np.abs(transicion)**2\n",
    "\n",
    "main()"
   ]
  },
  {
   "cell_type": "markdown",
   "metadata": {},
   "source": [
    "2. Ahora con una matriz que describa un observable y un vector ket, el sistema revisa que la matriz sea hermitiana, y si lo es, calcula la media y la varianza del observable en el estado dado."
   ]
  },
  {
   "cell_type": "code",
   "execution_count": null,
   "metadata": {},
   "outputs": [],
   "source": [
    "import numpy as np\n",
    "\n",
    "def main():\n",
    "    matriz = np.array([[1 + 1j, 2 - 1j], [2 + 2j, 3 - 2j]])\n",
    "    estado = np.array([1 + 0j, 0 - 1j])\n",
    "    media, varianza = calcular_media_varianza(matriz, estado)  # Corrección: asigna los valores devueltos por la función\n",
    "    print(\"La media calculada es:\", media)\n",
    "    print(\"La varianza es:\", varianza)\n",
    "\n",
    "def calcular_media_varianza(matriz, estado):\n",
    "    if np.allclose(matriz, np.conjugate(np.transpose(matriz))):\n",
    "        media = np.dot(np.conjugate(estado), np.dot(matriz, estado))\n",
    "        varianza = np.dot(np.conjugate(estado), np.dot(matriz**2, estado)) - np.abs(media)**2\n",
    "        return media, varianza\n",
    "    else:\n",
    "        return \"La matriz que describe el observable no es una matriz hermitiana\"\n",
    "\n",
    "main()\n"
   ]
  },
  {
   "cell_type": "markdown",
   "metadata": {},
   "source": [
    "3. El sistema calcula los valores propios del observable y la probabilidad de que el sistema transite a alguno de los vectores propios después de la observación."
   ]
  }
 ],
 "metadata": {
  "kernelspec": {
   "display_name": "Python 3",
   "language": "python",
   "name": "python3"
  },
  "language_info": {
   "codemirror_mode": {
    "name": "ipython",
    "version": 3
   },
   "file_extension": ".py",
   "mimetype": "text/x-python",
   "name": "python",
   "nbconvert_exporter": "python",
   "pygments_lexer": "ipython3",
   "version": "3.10.6"
  }
 },
 "nbformat": 4,
 "nbformat_minor": 2
}
